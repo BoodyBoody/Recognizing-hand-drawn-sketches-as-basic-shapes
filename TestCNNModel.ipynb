{
 "cells": [
  {
   "cell_type": "code",
   "execution_count": 3,
   "metadata": {},
   "outputs": [],
   "source": [
    "import cv2\n",
    "from PIL import Image\n",
    "import numpy as np\n",
    "\n",
    "\n",
    "def PrepareYoloImg(img , result):\n",
    "        # Create a list to store the bounding boxes and class names for the detected objects\n",
    "    boxes = []\n",
    "    class_names2 = []\n",
    "        # img = cv2.imread('untitled.png')\n",
    "        # Create a new image with the same dimensions as the original image\n",
    "    new_img = np.zeros_like(img)\n",
    "\n",
    "\n",
    "        # Get the bounding boxes and scores\n",
    "    scores = []\n",
    "    for i in range(len(result.boxes.cls)):\n",
    "        scores.append(float(result.boxes.cls[i]))\n",
    "\n",
    "    for j in range(len(result.boxes.xywh)):\n",
    "        center_x = int(result.boxes.xywh[j][0])\n",
    "        center_y = int(result.boxes.xywh[j][1])\n",
    "        w = int(result.boxes.xywh[j][2])\n",
    "        h = int(result.boxes.xywh[j][3])\n",
    "        x = int(center_x - w/2)\n",
    "        y = int(center_y - h/2)\n",
    "        box = [x, y, w, h]\n",
    "        boxes.append(box)\n",
    "        class_names2.append(scores[j])\n",
    "\n",
    "        # Apply non-maximum suppression\n",
    "    new_img = Image.fromarray(new_img)\n",
    "        # Loop over the selected boxes\n",
    "    for i in range(0,len(boxes)):\n",
    "        box = boxes[i]\n",
    "        class_name = class_names2[i]\n",
    "            \n",
    "            # Crop the object from the image\n",
    "        crop_img = img.crop((int(box[0]), int(box[1]), int(box[0])+int(box[2]), int(box[1])+int(box[3])))\n",
    "            \n",
    "            # Paste the cropped object onto the new image\n",
    "        new_img.paste(crop_img, (int(box[0]), int(box[1]), int(box[0])+int(box[2]), int(box[1])+int(box[3])))\n",
    "\n",
    "        # Save the new image\n",
    "    return np.asarray(new_img)\n",
    "\n"
   ]
  },
  {
   "cell_type": "code",
   "execution_count": 4,
   "metadata": {},
   "outputs": [
    {
     "name": "stdout",
     "output_type": "stream",
     "text": [
      "(1, 256, 256, 1)\n"
     ]
    },
    {
     "name": "stderr",
     "output_type": "stream",
     "text": [
      "\n",
      "0: 640x640 3 circles, 196.0ms\n",
      "Speed: 7.0ms preprocess, 196.0ms inference, 2.0ms postprocess per image at shape (1, 3, 640, 640)\n"
     ]
    },
    {
     "name": "stdout",
     "output_type": "stream",
     "text": [
      "1/1 [==============================] - 0s 254ms/step\n",
      "['traffic_light', 'bicycle', 'house', 'laptop', 'lollipop']\n"
     ]
    },
    {
     "data": {
      "image/png": "[encoded data removed]",
      "text/plain": [
       "<Figure size 640x480 with 1 Axes>"
      ]
     },
     "metadata": {},
     "output_type": "display_data"
    }
   ],
   "source": [
    "from ultralytics import YOLO\n",
    "import cv2\n",
    "import matplotlib.pyplot as plt\n",
    "import keras \n",
    "import tensorflow as tf\n",
    "\n",
    "class_names = ['bicycle', 'house' ,'laptop', 'lollipop', 'traffic_light']\n",
    "\n",
    "\n",
    "img = cv2.imread('Untitled.PNG', cv2.IMREAD_GRAYSCALE)\n",
    "\n",
    "\n",
    "img = cv2.resize(img, (256,256))\n",
    "img = np.array(img)\n",
    "img = img.reshape(-1, 256, 256, 1).astype('float32')\n",
    "img /=255.0\n",
    "imgy = Image.fromarray(np.uint8(img.reshape((256, 256))*255))\n",
    "\n",
    "print(img.shape)\n",
    "Yolo_Model = YOLO(r'YoloComposedColab100\\weights\\best.pt')\n",
    "model = keras.models.load_model(r\"SavedModels\\ImageAbstractionModel.h5\")\n",
    "\n",
    "\n",
    "\n",
    "result = Yolo_Model.predict(source=imgy, save=False,  conf=0.25, task='detect')[0]\n",
    "\n",
    "predimg = PrepareYoloImg(imgy, result)\n",
    "\n",
    "predimg = np.array(predimg)\n",
    "\n",
    "predimg = predimg.reshape(-1, 256, 256, 1).astype('float32')\n",
    "\n",
    "\n",
    "prediction = model.predict(predimg)[0]\n",
    "ind = (-prediction).argsort()[:5]\n",
    "latex = [class_names[x] for x in ind]\n",
    "print(latex)\n",
    "plt.imshow(predimg.reshape(256,256))\n",
    "plt.show()\n"
   ]
  },
  {
   "cell_type": "code",
   "execution_count": null,
   "metadata": {},
   "outputs": [],
   "source": []
  }
 ],
 "metadata": {
  "kernelspec": {
   "display_name": "Python 3",
   "language": "python",
   "name": "python3"
  },
  "language_info": {
   "codemirror_mode": {
    "name": "ipython",
    "version": 3
   },
   "file_extension": ".py",
   "mimetype": "text/x-python",
   "name": "python",
   "nbconvert_exporter": "python",
   "pygments_lexer": "ipython3",
   "version": "3.10.10"
  },
  "orig_nbformat": 4
 },
 "nbformat": 4,
 "nbformat_minor": 2
}
